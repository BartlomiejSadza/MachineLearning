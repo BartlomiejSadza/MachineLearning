{
 "cells": [
  {
   "cell_type": "markdown",
   "id": "a66f7508-b4ed-4360-a3b5-4d9c22af697a",
   "metadata": {},
   "source": [
    "## Autorzy: *Bartłomiej Sadza*, *Mateusz Strojek*\n",
    "## Kierunek: *Informatyka i Ekonometria (1 rok stacjonarnie, 2 stopień)*\n",
    "## Przedmiot: *Machine Learning*\n",
    "## Sprawozdanie nr 1."
   ]
  },
  {
   "cell_type": "markdown",
   "id": "4c1ad74a-33e1-493e-a741-b1a4eab8f45a",
   "metadata": {},
   "source": [
    "## Wstępna analiza i oczyszczenie zmiennych"
   ]
  },
  {
   "cell_type": "code",
   "execution_count": 3,
   "id": "69f142eb-7b52-4e8e-87cd-92c123083dec",
   "metadata": {},
   "outputs": [
    {
     "name": "stdout",
     "output_type": "stream",
     "text": [
      "   gender age  hypertension  heart_disease ever_married      work_type  \\\n",
      "0    Male  67             0              1          Yes        Private   \n",
      "1  Female  61             0              0          Yes  Self-employed   \n",
      "2    Male  80             0              1          Yes        Private   \n",
      "3  Female  49             0              0          Yes        Private   \n",
      "4  Female  79             1              0          Yes  Self-employed   \n",
      "\n",
      "  Residence_type avg_glucose_level   bmi   smoking_status  stroke  \n",
      "0          Urban            228.69  36.6  formerly smoked       1  \n",
      "1          Rural            202.21   NaN     never smoked       1  \n",
      "2          Rural            105.92  32.5     never smoked       1  \n",
      "3          Urban            171.23  34.4           smokes       1  \n",
      "4          Rural            174.12    24     never smoked       1  \n",
      "gender               object\n",
      "age                  object\n",
      "hypertension          int64\n",
      "heart_disease         int64\n",
      "ever_married         object\n",
      "work_type            object\n",
      "Residence_type       object\n",
      "avg_glucose_level    object\n",
      "bmi                  object\n",
      "smoking_status       object\n",
      "stroke                int64\n",
      "dtype: object\n"
     ]
    }
   ],
   "source": [
    "import numpy as np\n",
    "import pandas as pd\n",
    "from sklearn.model_selection import train_test_split\n",
    "from sklearn.preprocessing import StandardScaler\n",
    "from sklearn.neighbors import KNeighborsClassifier\n",
    "from sklearn.metrics import confusion_matrix\n",
    "\n",
    "data = pd.read_csv(\n",
    "    \"Stroke_data.csv\",\n",
    "    sep=\";\",\n",
    "    decimal=\",\",\n",
    ")\n",
    "print(data.head())\n",
    "print(data.dtypes)"
   ]
  },
  {
   "cell_type": "markdown",
   "id": "0333e2d4-30a4-4ead-b7f7-87ba7dce19bc",
   "metadata": {},
   "source": [
    "### Można wyróżnić poszczególne zmienne:\n",
    "\n",
    "- *gender* : Płeć pacjenta (Male - mężczyzna, Female - kobieta),\n",
    "- *age* : Wiek pacjenta,\n",
    "- *hypertension* : Czy pacjent ma nadciśnienie (0 - brak, 1 - obecność nadciśnienia),\n",
    "- *heart_disease* : Czy pacjent ma chorobę serca (0 - brak, 1 - obecność choroby serca),\n",
    "- *ever_married* : Czy pacjent był kiedykolwiek w związku małżeńskim,\n",
    "- *work_type* : Typ pracy wykonywanej przez pacjenta,\n",
    "- *Residence_type* : Miejsce zamieszkania pacjenta,\n",
    "- *avg_glucose_level* : Średni poziom glukozy we krwi pacjenta,\n",
    "- *bmi* : Wskaźnik masy ciała (Body Mass Index, BMI) pacjenta,\n",
    "- *smoking_status* : Status palenia pacjenta,\n",
    "- *stroke* : Czy pacjent przeszedł udar\n",
    "\n",
    "### Zmienna age, avg_glucose_level i bmi mają typ \"object\", co jest dość zastanawiające. Należy sprawdzić, dlaczego tak jest."
   ]
  },
  {
   "cell_type": "markdown",
   "id": "f34c0a18-815a-42a1-9294-a70b43ac5bd6",
   "metadata": {},
   "source": [
    "#### - Zmienna *Age*"
   ]
  },
  {
   "cell_type": "code",
   "execution_count": 4,
   "id": "4ae8ee7a-268d-4077-9970-0751428fa848",
   "metadata": {},
   "outputs": [
    {
     "name": "stdout",
     "output_type": "stream",
     "text": [
      "age\n",
      "78      102\n",
      "57       95\n",
      "52       90\n",
      "54       87\n",
      "51       86\n",
      "       ... \n",
      "1.4       3\n",
      "0.48      3\n",
      "0.16      3\n",
      "0.4       2\n",
      "0.08      2\n",
      "Name: count, Length: 104, dtype: int64\n"
     ]
    }
   ],
   "source": [
    "print(data['age'].value_counts())"
   ]
  },
  {
   "cell_type": "markdown",
   "id": "1879b7b2-3ed3-4432-afa0-409707369b3d",
   "metadata": {},
   "source": [
    "#### - Zmienna *avg_glucose_level*"
   ]
  },
  {
   "cell_type": "code",
   "execution_count": 5,
   "id": "7c69ea9f-bdff-4cd0-aaa1-b651df5af9ad",
   "metadata": {},
   "outputs": [
    {
     "name": "stdout",
     "output_type": "stream",
     "text": [
      "avg_glucose_level\n",
      "93.88     6\n",
      "91.68     5\n",
      "91.85     5\n",
      "83.16     5\n",
      "73        5\n",
      "         ..\n",
      "94.07     1\n",
      "111.93    1\n",
      "94.4      1\n",
      "95.57     1\n",
      "85.28     1\n",
      "Name: count, Length: 3978, dtype: int64\n"
     ]
    }
   ],
   "source": [
    "print(data['avg_glucose_level'].value_counts())"
   ]
  },
  {
   "cell_type": "markdown",
   "id": "fd0b87a1-3c25-4613-b37f-fd4872ed27ae",
   "metadata": {},
   "source": [
    "#### - Zmienna *bmi*"
   ]
  },
  {
   "cell_type": "code",
   "execution_count": 6,
   "id": "6b151c8d-1b4c-4b17-a724-0ef252578816",
   "metadata": {},
   "outputs": [
    {
     "data": {
      "text/plain": [
       "bmi\n",
       "28.7    41\n",
       "28.4    38\n",
       "26.7    37\n",
       "27.6    37\n",
       "26.1    37\n",
       "        ..\n",
       "48.7     1\n",
       "49.2     1\n",
       "51       1\n",
       "49.4     1\n",
       "14.9     1\n",
       "Name: count, Length: 418, dtype: int64"
      ]
     },
     "execution_count": 6,
     "metadata": {},
     "output_type": "execute_result"
    }
   ],
   "source": [
    "data['bmi'].value_counts()"
   ]
  },
  {
   "cell_type": "markdown",
   "id": "f635bbb0-5c55-4cc7-a435-c3b881e54044",
   "metadata": {},
   "source": [
    "### Zmienne posiadają taką wadę, że w pliku CSV zamiast wartości liczbowych, są wartości typu Date. Trzeba zamienić te zmienne na typ liczbowy, a na dodatek dla zmiennej *age* wyrzucić te obserwacje, które przyjmują wartości zmiennoprzecinkowe"
   ]
  },
  {
   "cell_type": "code",
   "execution_count": 7,
   "id": "a1d92c29-0bf5-4d65-b3ec-e0f3629c7fd8",
   "metadata": {},
   "outputs": [],
   "source": [
    "data['age'] = pd.to_numeric(data['age'], errors='coerce')\n",
    "data = data[(data['age'] % 1 == 0)]\n",
    "data['avg_glucose_level'] = pd.to_numeric(data['avg_glucose_level'], errors='coerce')\n",
    "data['bmi'] = pd.to_numeric(data['bmi'], errors='coerce')"
   ]
  },
  {
   "cell_type": "markdown",
   "id": "dfbf2059-31c4-49f9-bceb-d4fb558ed00c",
   "metadata": {},
   "source": [
    "### Z pomocą one-hot encoding zamieniamy zmienne kategoryczne na zmienne przyjmujące wartości zero jedynkowe."
   ]
  },
  {
   "cell_type": "code",
   "execution_count": 8,
   "id": "9c9cf95c-3ab1-407d-a7c1-a3c05ead4137",
   "metadata": {},
   "outputs": [
    {
     "data": {
      "text/html": [
       "<div>\n",
       "<style scoped>\n",
       "    .dataframe tbody tr th:only-of-type {\n",
       "        vertical-align: middle;\n",
       "    }\n",
       "\n",
       "    .dataframe tbody tr th {\n",
       "        vertical-align: top;\n",
       "    }\n",
       "\n",
       "    .dataframe thead th {\n",
       "        text-align: right;\n",
       "    }\n",
       "</style>\n",
       "<table border=\"1\" class=\"dataframe\">\n",
       "  <thead>\n",
       "    <tr style=\"text-align: right;\">\n",
       "      <th></th>\n",
       "      <th>age</th>\n",
       "      <th>hypertension</th>\n",
       "      <th>heart_disease</th>\n",
       "      <th>avg_glucose_level</th>\n",
       "      <th>bmi</th>\n",
       "      <th>stroke</th>\n",
       "      <th>gender_Female</th>\n",
       "      <th>gender_Male</th>\n",
       "      <th>ever_married_No</th>\n",
       "      <th>ever_married_Yes</th>\n",
       "      <th>...</th>\n",
       "      <th>work_type_Never_worked</th>\n",
       "      <th>work_type_Private</th>\n",
       "      <th>work_type_Self-employed</th>\n",
       "      <th>work_type_children</th>\n",
       "      <th>Residence_type_Rural</th>\n",
       "      <th>Residence_type_Urban</th>\n",
       "      <th>smoking_status_Unknown</th>\n",
       "      <th>smoking_status_formerly smoked</th>\n",
       "      <th>smoking_status_never smoked</th>\n",
       "      <th>smoking_status_smokes</th>\n",
       "    </tr>\n",
       "  </thead>\n",
       "  <tbody>\n",
       "    <tr>\n",
       "      <th>0</th>\n",
       "      <td>67.0</td>\n",
       "      <td>0</td>\n",
       "      <td>1</td>\n",
       "      <td>228.69</td>\n",
       "      <td>36.6</td>\n",
       "      <td>1</td>\n",
       "      <td>False</td>\n",
       "      <td>True</td>\n",
       "      <td>False</td>\n",
       "      <td>True</td>\n",
       "      <td>...</td>\n",
       "      <td>False</td>\n",
       "      <td>True</td>\n",
       "      <td>False</td>\n",
       "      <td>False</td>\n",
       "      <td>False</td>\n",
       "      <td>True</td>\n",
       "      <td>False</td>\n",
       "      <td>True</td>\n",
       "      <td>False</td>\n",
       "      <td>False</td>\n",
       "    </tr>\n",
       "    <tr>\n",
       "      <th>1</th>\n",
       "      <td>61.0</td>\n",
       "      <td>0</td>\n",
       "      <td>0</td>\n",
       "      <td>202.21</td>\n",
       "      <td>NaN</td>\n",
       "      <td>1</td>\n",
       "      <td>True</td>\n",
       "      <td>False</td>\n",
       "      <td>False</td>\n",
       "      <td>True</td>\n",
       "      <td>...</td>\n",
       "      <td>False</td>\n",
       "      <td>False</td>\n",
       "      <td>True</td>\n",
       "      <td>False</td>\n",
       "      <td>True</td>\n",
       "      <td>False</td>\n",
       "      <td>False</td>\n",
       "      <td>False</td>\n",
       "      <td>True</td>\n",
       "      <td>False</td>\n",
       "    </tr>\n",
       "    <tr>\n",
       "      <th>2</th>\n",
       "      <td>80.0</td>\n",
       "      <td>0</td>\n",
       "      <td>1</td>\n",
       "      <td>105.92</td>\n",
       "      <td>32.5</td>\n",
       "      <td>1</td>\n",
       "      <td>False</td>\n",
       "      <td>True</td>\n",
       "      <td>False</td>\n",
       "      <td>True</td>\n",
       "      <td>...</td>\n",
       "      <td>False</td>\n",
       "      <td>True</td>\n",
       "      <td>False</td>\n",
       "      <td>False</td>\n",
       "      <td>True</td>\n",
       "      <td>False</td>\n",
       "      <td>False</td>\n",
       "      <td>False</td>\n",
       "      <td>True</td>\n",
       "      <td>False</td>\n",
       "    </tr>\n",
       "    <tr>\n",
       "      <th>3</th>\n",
       "      <td>49.0</td>\n",
       "      <td>0</td>\n",
       "      <td>0</td>\n",
       "      <td>171.23</td>\n",
       "      <td>34.4</td>\n",
       "      <td>1</td>\n",
       "      <td>True</td>\n",
       "      <td>False</td>\n",
       "      <td>False</td>\n",
       "      <td>True</td>\n",
       "      <td>...</td>\n",
       "      <td>False</td>\n",
       "      <td>True</td>\n",
       "      <td>False</td>\n",
       "      <td>False</td>\n",
       "      <td>False</td>\n",
       "      <td>True</td>\n",
       "      <td>False</td>\n",
       "      <td>False</td>\n",
       "      <td>False</td>\n",
       "      <td>True</td>\n",
       "    </tr>\n",
       "    <tr>\n",
       "      <th>4</th>\n",
       "      <td>79.0</td>\n",
       "      <td>1</td>\n",
       "      <td>0</td>\n",
       "      <td>174.12</td>\n",
       "      <td>24.0</td>\n",
       "      <td>1</td>\n",
       "      <td>True</td>\n",
       "      <td>False</td>\n",
       "      <td>False</td>\n",
       "      <td>True</td>\n",
       "      <td>...</td>\n",
       "      <td>False</td>\n",
       "      <td>False</td>\n",
       "      <td>True</td>\n",
       "      <td>False</td>\n",
       "      <td>True</td>\n",
       "      <td>False</td>\n",
       "      <td>False</td>\n",
       "      <td>False</td>\n",
       "      <td>True</td>\n",
       "      <td>False</td>\n",
       "    </tr>\n",
       "    <tr>\n",
       "      <th>...</th>\n",
       "      <td>...</td>\n",
       "      <td>...</td>\n",
       "      <td>...</td>\n",
       "      <td>...</td>\n",
       "      <td>...</td>\n",
       "      <td>...</td>\n",
       "      <td>...</td>\n",
       "      <td>...</td>\n",
       "      <td>...</td>\n",
       "      <td>...</td>\n",
       "      <td>...</td>\n",
       "      <td>...</td>\n",
       "      <td>...</td>\n",
       "      <td>...</td>\n",
       "      <td>...</td>\n",
       "      <td>...</td>\n",
       "      <td>...</td>\n",
       "      <td>...</td>\n",
       "      <td>...</td>\n",
       "      <td>...</td>\n",
       "      <td>...</td>\n",
       "    </tr>\n",
       "    <tr>\n",
       "      <th>5104</th>\n",
       "      <td>80.0</td>\n",
       "      <td>1</td>\n",
       "      <td>0</td>\n",
       "      <td>83.75</td>\n",
       "      <td>NaN</td>\n",
       "      <td>0</td>\n",
       "      <td>True</td>\n",
       "      <td>False</td>\n",
       "      <td>False</td>\n",
       "      <td>True</td>\n",
       "      <td>...</td>\n",
       "      <td>False</td>\n",
       "      <td>True</td>\n",
       "      <td>False</td>\n",
       "      <td>False</td>\n",
       "      <td>False</td>\n",
       "      <td>True</td>\n",
       "      <td>False</td>\n",
       "      <td>False</td>\n",
       "      <td>True</td>\n",
       "      <td>False</td>\n",
       "    </tr>\n",
       "    <tr>\n",
       "      <th>5105</th>\n",
       "      <td>81.0</td>\n",
       "      <td>0</td>\n",
       "      <td>0</td>\n",
       "      <td>125.20</td>\n",
       "      <td>40.0</td>\n",
       "      <td>0</td>\n",
       "      <td>True</td>\n",
       "      <td>False</td>\n",
       "      <td>False</td>\n",
       "      <td>True</td>\n",
       "      <td>...</td>\n",
       "      <td>False</td>\n",
       "      <td>False</td>\n",
       "      <td>True</td>\n",
       "      <td>False</td>\n",
       "      <td>False</td>\n",
       "      <td>True</td>\n",
       "      <td>False</td>\n",
       "      <td>False</td>\n",
       "      <td>True</td>\n",
       "      <td>False</td>\n",
       "    </tr>\n",
       "    <tr>\n",
       "      <th>5106</th>\n",
       "      <td>35.0</td>\n",
       "      <td>0</td>\n",
       "      <td>0</td>\n",
       "      <td>82.99</td>\n",
       "      <td>30.6</td>\n",
       "      <td>0</td>\n",
       "      <td>True</td>\n",
       "      <td>False</td>\n",
       "      <td>False</td>\n",
       "      <td>True</td>\n",
       "      <td>...</td>\n",
       "      <td>False</td>\n",
       "      <td>False</td>\n",
       "      <td>True</td>\n",
       "      <td>False</td>\n",
       "      <td>True</td>\n",
       "      <td>False</td>\n",
       "      <td>False</td>\n",
       "      <td>False</td>\n",
       "      <td>True</td>\n",
       "      <td>False</td>\n",
       "    </tr>\n",
       "    <tr>\n",
       "      <th>5107</th>\n",
       "      <td>51.0</td>\n",
       "      <td>0</td>\n",
       "      <td>0</td>\n",
       "      <td>166.29</td>\n",
       "      <td>25.6</td>\n",
       "      <td>0</td>\n",
       "      <td>False</td>\n",
       "      <td>True</td>\n",
       "      <td>False</td>\n",
       "      <td>True</td>\n",
       "      <td>...</td>\n",
       "      <td>False</td>\n",
       "      <td>True</td>\n",
       "      <td>False</td>\n",
       "      <td>False</td>\n",
       "      <td>True</td>\n",
       "      <td>False</td>\n",
       "      <td>False</td>\n",
       "      <td>True</td>\n",
       "      <td>False</td>\n",
       "      <td>False</td>\n",
       "    </tr>\n",
       "    <tr>\n",
       "      <th>5108</th>\n",
       "      <td>44.0</td>\n",
       "      <td>0</td>\n",
       "      <td>0</td>\n",
       "      <td>85.28</td>\n",
       "      <td>26.2</td>\n",
       "      <td>0</td>\n",
       "      <td>True</td>\n",
       "      <td>False</td>\n",
       "      <td>False</td>\n",
       "      <td>True</td>\n",
       "      <td>...</td>\n",
       "      <td>False</td>\n",
       "      <td>False</td>\n",
       "      <td>False</td>\n",
       "      <td>False</td>\n",
       "      <td>False</td>\n",
       "      <td>True</td>\n",
       "      <td>True</td>\n",
       "      <td>False</td>\n",
       "      <td>False</td>\n",
       "      <td>False</td>\n",
       "    </tr>\n",
       "  </tbody>\n",
       "</table>\n",
       "<p>4994 rows × 21 columns</p>\n",
       "</div>"
      ],
      "text/plain": [
       "       age  hypertension  heart_disease  avg_glucose_level   bmi  stroke  \\\n",
       "0     67.0             0              1             228.69  36.6       1   \n",
       "1     61.0             0              0             202.21   NaN       1   \n",
       "2     80.0             0              1             105.92  32.5       1   \n",
       "3     49.0             0              0             171.23  34.4       1   \n",
       "4     79.0             1              0             174.12  24.0       1   \n",
       "...    ...           ...            ...                ...   ...     ...   \n",
       "5104  80.0             1              0              83.75   NaN       0   \n",
       "5105  81.0             0              0             125.20  40.0       0   \n",
       "5106  35.0             0              0              82.99  30.6       0   \n",
       "5107  51.0             0              0             166.29  25.6       0   \n",
       "5108  44.0             0              0              85.28  26.2       0   \n",
       "\n",
       "      gender_Female  gender_Male  ever_married_No  ever_married_Yes  ...  \\\n",
       "0             False         True            False              True  ...   \n",
       "1              True        False            False              True  ...   \n",
       "2             False         True            False              True  ...   \n",
       "3              True        False            False              True  ...   \n",
       "4              True        False            False              True  ...   \n",
       "...             ...          ...              ...               ...  ...   \n",
       "5104           True        False            False              True  ...   \n",
       "5105           True        False            False              True  ...   \n",
       "5106           True        False            False              True  ...   \n",
       "5107          False         True            False              True  ...   \n",
       "5108           True        False            False              True  ...   \n",
       "\n",
       "      work_type_Never_worked  work_type_Private  work_type_Self-employed  \\\n",
       "0                      False               True                    False   \n",
       "1                      False              False                     True   \n",
       "2                      False               True                    False   \n",
       "3                      False               True                    False   \n",
       "4                      False              False                     True   \n",
       "...                      ...                ...                      ...   \n",
       "5104                   False               True                    False   \n",
       "5105                   False              False                     True   \n",
       "5106                   False              False                     True   \n",
       "5107                   False               True                    False   \n",
       "5108                   False              False                    False   \n",
       "\n",
       "      work_type_children  Residence_type_Rural  Residence_type_Urban  \\\n",
       "0                  False                 False                  True   \n",
       "1                  False                  True                 False   \n",
       "2                  False                  True                 False   \n",
       "3                  False                 False                  True   \n",
       "4                  False                  True                 False   \n",
       "...                  ...                   ...                   ...   \n",
       "5104               False                 False                  True   \n",
       "5105               False                 False                  True   \n",
       "5106               False                  True                 False   \n",
       "5107               False                  True                 False   \n",
       "5108               False                 False                  True   \n",
       "\n",
       "      smoking_status_Unknown  smoking_status_formerly smoked  \\\n",
       "0                      False                            True   \n",
       "1                      False                           False   \n",
       "2                      False                           False   \n",
       "3                      False                           False   \n",
       "4                      False                           False   \n",
       "...                      ...                             ...   \n",
       "5104                   False                           False   \n",
       "5105                   False                           False   \n",
       "5106                   False                           False   \n",
       "5107                   False                            True   \n",
       "5108                    True                           False   \n",
       "\n",
       "      smoking_status_never smoked  smoking_status_smokes  \n",
       "0                           False                  False  \n",
       "1                            True                  False  \n",
       "2                            True                  False  \n",
       "3                           False                   True  \n",
       "4                            True                  False  \n",
       "...                           ...                    ...  \n",
       "5104                         True                  False  \n",
       "5105                         True                  False  \n",
       "5106                         True                  False  \n",
       "5107                        False                  False  \n",
       "5108                        False                  False  \n",
       "\n",
       "[4994 rows x 21 columns]"
      ]
     },
     "execution_count": 8,
     "metadata": {},
     "output_type": "execute_result"
    }
   ],
   "source": [
    "categorical_columns = [\n",
    "    \"gender\",\n",
    "    \"ever_married\",\n",
    "    \"work_type\",\n",
    "    \"Residence_type\",\n",
    "    \"smoking_status\",\n",
    "]\n",
    "data = pd.get_dummies(data, columns=categorical_columns)\n",
    "data"
   ]
  },
  {
   "cell_type": "markdown",
   "id": "5d8566ae-a3eb-4f1c-800a-9265c52527e4",
   "metadata": {},
   "source": [
    "### Zastąpienie pustych wartości średnią dla zmiennych liczbowych oraz wartością najczęściej występującą dla zmiennych kategorycznych"
   ]
  },
  {
   "cell_type": "code",
   "execution_count": 9,
   "id": "c8afd2b3-f3c0-424b-9f22-b58c2374c593",
   "metadata": {},
   "outputs": [],
   "source": [
    "numeric_columns = data.select_dtypes(include=[np.number]).columns\n",
    "non_numeric_columns = data.select_dtypes(exclude=[np.number]).columns\n",
    "\n",
    "# Zastąpienie NA wartościami średnimi\n",
    "data[numeric_columns] = data[numeric_columns].fillna(data[numeric_columns].mean())\n",
    "\n",
    "# Zastąpienie NA wartością najczęstszą\n",
    "for column in non_numeric_columns:\n",
    "    data[column] = data[column].fillna(data[column].mode()[0])\n",
    "\n",
    "X = data.drop(columns=[\"stroke\"])\n",
    "y = data[\"stroke\"]"
   ]
  },
  {
   "cell_type": "markdown",
   "id": "7a758a99-ff7f-41ad-9282-c89378a5d6e8",
   "metadata": {},
   "source": [
    "# **Zadanie 1. Pytania wstępne.**\n",
    "\n",
    "## Zad. 1.1. W jakim celu dokonuje się podziału zbioru danych na zbiór uczący i testowy? W jaki sposób ten podział powinien zostać wykonany?\n",
    "\n",
    "### Podział zbioru danych na zbiór uczący i testowy\n",
    "\n",
    "Podział zbioru danych na zbiór uczący i testowy jest kluczowym krokiem w procesie tworzenia modeli uczenia maszynowego. Oto główne cele i sposób wykonania tego podziału:\n",
    "\n",
    "### Cele podziału zbioru danych:\n",
    "1. **Ocena modelu**: Podział danych pozwala na ocenę modelu na danych, które nie były używane podczas jego trenowania. Dzięki walidacji, można zobaczyć, jak dobrze poradzi sobie model na nowych danych.\n",
    "2. **Unikanie przeuczenia (overfitting)**: Trenowanie modelu na całym zbiorze danych może prowadzić do przeuczenia, gdzie model dobrze radzi sobie na danych treningowych, ale słabo na nowych, niewidzianych danych. \n",
    "\n",
    "### Sposób wykonania podziału:\n",
    "**Losowy podział** - Najczęściej stosowaną metodą jest losowy podział danych na zbiór uczący i testowy. Typowy podział to 80% danych na zbiór uczący i 20% na zbiór testowy, ale proporcje mogą się różnić w zależności od wielkości zbioru danych i specyfiki problemu.\n",
    "\n",
    "\n",
    "## Zad. 1.2. Czym jest macierz błędu?\n",
    "\n",
    "W przypadku klasyfikacji binarnej, jest to macierz 2x2, w której na podstawie problemu klasyfikacji pacjentów chorzych na COVID, można wyróżnić poszczególne komórki:\n",
    "- TP (True Positive) - liczba pacjentów, którzy zostali sklasyfikowani jako chorzy i faktycznie byli chorzy,\n",
    "- FP (False Positive) - liczba pasjentów, którzy zostali sklasyfkowani jako chorzy lecz byli zdrowi,\n",
    "- FN (False Negative) - liczba pacjentów, którzy zostali sklasyfikowani jako zdrowi lecz byli chorzy,\n",
    "- TN (True Negative) - liczba pacjentów, którzy zostali sklasyfikowani jako zdrowi i byli zdrowi.\n",
    "\n",
    "## Zad. 1.3. Jaka jest różnica między dokładnością, czułością a specyficznością? Która z tych miar i w jakim przypadku jest ważniejsza. Podać przykłady.\n",
    "\n",
    "1. **Dokładność (Accuracy)**: Jest to miara, która określa, jaki procent wszystkich przewidywań modelu jest poprawny. Oblicza się ją jako stosunek liczby poprawnych przewidywań do całkowitej liczby przypadków. Dokładność jest użyteczna, gdy klasy są zrównoważone, czyli liczba przypadków każdej klasy jest podobna.\n",
    "   - Przykład: W klasyfikacji emaili jako spam lub nie-spam, jeśli mamy 1000 emaili, z czego 950 to nie-spam i 50 to spam, model, który zawsze przewiduje \"nie-spam\", będzie miał dokładność 95%, ale nie będzie użyteczny w wykrywaniu spamu.\n",
    "2. **Czułość (Sensitivity)**: Jest to miara, która określa, jaki procent rzeczywistych pozytywnych przypadków został poprawnie zidentyfikowany przez model. Oblicza się ją jako stosunek liczby prawdziwych pozytywnych przewidywań do liczby wszystkich rzeczywistych pozytywnych przypadków. Czułość jest ważna w sytuacjach, gdzie istotne jest wykrycie wszystkich pozytywnych przypadków.\n",
    "   - Przykład: W diagnostyce medycznej, gdzie chcemy wykryć wszystkie przypadki choroby, wysoka czułość jest kluczowa, aby zminimalizować ryzyko przeoczenia chorego pacjenta.\n",
    "3. **Specyficzność (Specificity)**: Jest to miara, która określa, jaki procent rzeczywistych negatywnych przypadków został poprawnie zidentyfikowany przez model. Oblicza się ją jako stosunek liczby prawdziwych negatywnych przewidywań do liczby wszystkich rzeczywistych negatywnych przypadków.\n",
    "   - Przykład: W systemach bezpieczeństwa, gdzie fałszywe alarmy mogą być kosztowne i uciążliwe, wysoka specyficzność jest kluczowa, aby zminimalizować liczbę fałszywych alarmów."
   ]
  },
  {
   "cell_type": "markdown",
   "id": "e5f74473-3931-47f3-bb4b-b20af934676f",
   "metadata": {},
   "source": [
    "# **Zadanie 2. Metoda KNN**"
   ]
  },
  {
   "cell_type": "markdown",
   "id": "8489d088-0ff5-4360-a800-150230b54392",
   "metadata": {},
   "source": [
    "## Zad. 2.1. Jak działa metoda k-najbliższych sąsiadów?\n",
    "Metoda k-najbliższych sąsiadów (knn) pomaga analitykowi danych w klasyfikacji obserwacji na podstawie najbliższych k obserwacji. Odległość może być mierzona w różny sposób, jedną z najpopularniejszych metod jest metoda odległości euklidesowej. Na podstawie tych odległości, za pomocą k najbliższych sąsiadów głosów zapada decyzja odnośnie przynależności obserwacji dla danej klasy. Większość \"głosów\" sąsiadów decyduje o finalnej decyzji. \n",
    "## Zad. 2.2. Czym jest k w metodzie KNN? Jak dobrać odpowiednią wartość k?\n",
    "K w metodzie KNN jest parametrem, który odpowiada za liczbę najbliższych sąsiadów branych pod uwagę przy decyzji klasyfikacji danej obserwacji. Wartość k jest optymalna, gdy np. pole AUC jest największe dla danych testowych, bądź inne kryterium, takie jak największa dokładność, czułość lub specyficzność\n",
    "## Zad. 2.3. Czy k powinno być liczbą parzystą, nieparzystą, czy nie ma to znaczenia? Odpowiedź uzasadnić przeprowadzając odpowiednią symulację."
   ]
  },
  {
   "cell_type": "code",
   "execution_count": 10,
   "id": "87447637-861d-4bb1-a498-448eb746f73d",
   "metadata": {},
   "outputs": [
    {
     "name": "stdout",
     "output_type": "stream",
     "text": [
      "    k   czulosc  dokladnosc\n",
      "0   1  0.083333    0.906907\n",
      "1   2  0.033333    0.938939\n",
      "2   3  0.033333    0.928929\n",
      "3   4  0.016667    0.939940\n",
      "4   5  0.050000    0.940941\n",
      "5   6  0.033333    0.940941\n",
      "6   7  0.033333    0.940941\n",
      "7   8  0.033333    0.940941\n",
      "8   9  0.033333    0.940941\n",
      "9  10  0.000000    0.939940\n"
     ]
    }
   ],
   "source": [
    "X_train, X_test, y_train, y_test = train_test_split(\n",
    "    X, y, test_size=0.2, random_state=42\n",
    ")\n",
    "\n",
    "scaler = StandardScaler()\n",
    "X_train_scaled = scaler.fit_transform(X_train)\n",
    "X_test_scaled = scaler.transform(X_test)\n",
    "\n",
    "czulosc = []\n",
    "dokladnosc = []\n",
    "\n",
    "for x in range(1,11):\n",
    "    knn = KNeighborsClassifier(n_neighbors=x)\n",
    "    knn.fit(X_train_scaled, y_train)\n",
    "    \n",
    "    y_test_prediction = knn.predict(X_test_scaled)\n",
    "    \n",
    "    matrix_test = confusion_matrix(y_test, y_test_prediction)\n",
    "    dokladnosc.append((matrix_test[0,0]+matrix_test[1,1])/matrix_test.sum())\n",
    "    czulosc.append((matrix_test[1,1]/(matrix_test[1,0]+matrix_test[1,1])))\n",
    "\n",
    "df = pd.DataFrame({\n",
    "    'k': [x for x in range(1, 11)],\n",
    "    'czulosc': czulosc,\n",
    "    'dokladnosc': dokladnosc\n",
    "})\n",
    "print(df)"
   ]
  },
  {
   "cell_type": "markdown",
   "id": "8667465e-821e-40ea-a7a1-d462e8f40f7b",
   "metadata": {},
   "source": [
    "Widać, że gdy k jest liczbą nieparzystą, wyniki są minimalnie lepsze od tych gdy jest liczbą parzystą. Może to wynikać z faktu, że gdy mamy remis w głosowaniu, to klasyfikacja jest przeprowadzana losowo."
   ]
  },
  {
   "cell_type": "markdown",
   "id": "70a38430-0080-4c4b-a888-d67759152707",
   "metadata": {},
   "source": [
    "## Zad. 2.4. Czy standaryzacja danych jest wymagana w przypadku wykorzystywania metody k-najbliższych sąsiadów? Dlaczego tak/nie? Zastosować metodę KNN na danych bez standaryzacji i ze standaryzacją. Porównać uzyskane wyniki.\n"
   ]
  },
  {
   "cell_type": "code",
   "execution_count": 11,
   "id": "cc5d987b-bb14-4233-9a28-aff980d4b564",
   "metadata": {},
   "outputs": [
    {
     "name": "stdout",
     "output_type": "stream",
     "text": [
      "    k   czulosc  dokladnosc\n",
      "0   1  0.133333    0.907908\n",
      "1   2  0.016667    0.934935\n",
      "2   3  0.066667    0.929930\n",
      "3   4  0.000000    0.936937\n",
      "4   5  0.016667    0.931932\n",
      "5   6  0.000000    0.936937\n",
      "6   7  0.016667    0.936937\n",
      "7   8  0.000000    0.937938\n",
      "8   9  0.000000    0.937938\n",
      "9  10  0.000000    0.938939\n"
     ]
    }
   ],
   "source": [
    "X_train, X_test, y_train, y_test = train_test_split(\n",
    "    X, y, test_size=0.2, random_state=42\n",
    ")\n",
    "\n",
    "dokladnosc = []\n",
    "czulosc = []\n",
    "\n",
    "X_train = X_train.to_numpy()\n",
    "X_test = X_test.to_numpy()\n",
    "\n",
    "for x in range(1,11):\n",
    "    knn = KNeighborsClassifier(n_neighbors=x)\n",
    "    \n",
    "    knn.fit(X_train, y_train)\n",
    "    \n",
    "    y_test_prediction = knn.predict(X_test)\n",
    "        \n",
    "    matrix_test = confusion_matrix(y_test, y_test_prediction)\n",
    "    dokladnosc.append((matrix_test[0,0]+matrix_test[1,1])/matrix_test.sum())\n",
    "    czulosc.append((matrix_test[1,1]/(matrix_test[1,0]+matrix_test[1,1])))\n",
    "    \n",
    "df = pd.DataFrame({\n",
    "    'k': [x for x in range(1, 11)],\n",
    "    'czulosc': czulosc,\n",
    "    'dokladnosc': dokladnosc\n",
    "})\n",
    "print(df)"
   ]
  },
  {
   "cell_type": "markdown",
   "id": "d28bab0e-9728-4f15-b909-505d563bc113",
   "metadata": {},
   "source": [
    "Standaryzacja jest zalecana w przypadku metody KNN. Jeżeli np. jedna zmienna przyjmuje wartości od 1 do 500 a reszta ma o wiele mniejszy zakres, to macierz odległości zależy w większości od zmiennej, której wartości mają bardzo szeroki zakres. Wyniki wyszły bardzo podobne, choć czułość wypadła jeszcze gorzej niż w przypadku standaryzowania zmiennych."
   ]
  },
  {
   "cell_type": "markdown",
   "id": "48896c8a-f949-4d51-ab3b-ca578ca6f807",
   "metadata": {},
   "source": [
    "## Zad. 2.5. Czy wielkość zbioru danych ma znaczenie w przypadku tej metody? Sprawdzić, czy liczba obserwacji wpływa na uzyskiwane wyniki."
   ]
  },
  {
   "cell_type": "code",
   "execution_count": 12,
   "id": "16c1b368-be68-4034-b33a-dcdeea4e3bf7",
   "metadata": {},
   "outputs": [
    {
     "name": "stdout",
     "output_type": "stream",
     "text": [
      "   próbka testowa   czulosc  dokladnosc\n",
      "0            0.10  0.090909    0.892000\n",
      "1            0.15  0.043478    0.938667\n",
      "2            0.20  0.033333    0.928929\n",
      "3            0.25  0.013158    0.939151\n",
      "4            0.30  0.023256    0.941294\n",
      "5            0.35  0.020202    0.943936\n",
      "6            0.40  0.036036    0.945946\n",
      "7            0.45  0.008403    0.947509\n",
      "8            0.50  0.015625    0.949539\n",
      "9            0.55  0.000000    0.948671\n"
     ]
    }
   ],
   "source": [
    "czulosc = []\n",
    "dokladnosc = []\n",
    "\n",
    "for x in range(1,11):\n",
    "    X_train, X_test, y_train, y_test = train_test_split(\n",
    "    X, y, test_size=0.05+x*0.05, random_state=42)\n",
    "\n",
    "    scaler = StandardScaler()\n",
    "    X_train_scaled = scaler.fit_transform(X_train)\n",
    "    X_test_scaled = scaler.transform(X_test)\n",
    "    \n",
    "    knn = KNeighborsClassifier(n_neighbors=x)\n",
    "    knn.fit(X_train_scaled, y_train)\n",
    "    \n",
    "    y_test_prediction = knn.predict(X_test_scaled)\n",
    "    \n",
    "    matrix_test = confusion_matrix(y_test, y_test_prediction)\n",
    "    dokladnosc.append((matrix_test[0,0]+matrix_test[1,1])/matrix_test.sum())\n",
    "    czulosc.append((matrix_test[1,1]/(matrix_test[1,0]+matrix_test[1,1])))\n",
    "\n",
    "df = pd.DataFrame({\n",
    "    'próbka testowa': [0.05+x*0.05 for x in range(1, 11)],\n",
    "    'czulosc': czulosc,\n",
    "    'dokladnosc': dokladnosc\n",
    "})\n",
    "print(df)"
   ]
  },
  {
   "cell_type": "markdown",
   "id": "d6657039-8f28-48a9-add0-9c3148546870",
   "metadata": {},
   "source": [
    "Wielkość próbki ma znaczenie, w tym przypadku wniosek jest taki, że im większa próbka testowa, tym większa dokładność oraz mniejsza czułość."
   ]
  },
  {
   "cell_type": "markdown",
   "id": "653f49ca-989f-42d1-a64e-861422e3cd70",
   "metadata": {},
   "source": [
    "## Zad. 2.6. Czy w metodzie tej można wykorzystać i jeśli tak, to w jaki sposób zmienne kategoryczne?"
   ]
  },
  {
   "cell_type": "markdown",
   "id": "c19b0c23-428e-4e66-bd5c-160ee64ed4dd",
   "metadata": {},
   "source": [
    "Tak, można wykorszystywać w tej metodzie dane kategoryczne. Należy zamienić je na wartości binarne. Dla zmiennej kategorycznej przyjmującej n wartości należy zbudować n-1 kolumn przyjmujących wartości 1 lub 0."
   ]
  },
  {
   "cell_type": "markdown",
   "id": "167aa6e3-c297-476b-8df9-3304214ef080",
   "metadata": {},
   "source": [
    "## Zad. 2.7. Jakie są zalety i wady tej metody?"
   ]
  },
  {
   "cell_type": "markdown",
   "id": "f414b373-36a2-40f4-a51a-0ba137cd6aec",
   "metadata": {},
   "source": [
    "Główną zaletą metody KNN jest prostota w implementacji oraz zrozumieniu, klasyfikacja odbywa się na podstawie k najbliższych sąsiadów. Z drugiej strony, metoda jest podatna na brakujące wartości, złożoność obliczeniowa jest spora oraz metoda jest podatna na wartości odstające."
   ]
  },
  {
   "cell_type": "markdown",
   "id": "0dd517cf-0d95-4975-a29c-76504d873fd4",
   "metadata": {},
   "source": [
    "# **Zadanie 3. Metoda KKNN.**"
   ]
  },
  {
   "cell_type": "markdown",
   "id": "0e1679c1-c8bb-4ff6-8116-164a9beb4300",
   "metadata": {},
   "source": [
    "## Zad.3.1. Co odróżnia metodę KKNN od metody KNN?"
   ]
  },
  {
   "cell_type": "markdown",
   "id": "77aa73e5-0444-4486-8c01-9800bdc1ea49",
   "metadata": {},
   "source": [
    "Metoda KKNN (Kernel K-Nearest Neighbors) różni się od klasycznej metody KNN (K-Nearest Neighbors) tym, że wprowadza wazenie sąsiadów. W klasycznym KNN każdy z k najbliższych sąsiadów ma równy wpływ na decyzję, podczas gdy w KKNN sąsiedzi bliżsi mają większy wpływ niż dalsi."
   ]
  },
  {
   "cell_type": "markdown",
   "id": "470ac5b5-aafa-4761-b753-3ab36a3f38be",
   "metadata": {},
   "source": [
    "## Zad. 3.2. Czy w metodzie tej występują ograniczenia dotyczące wyboru wartości k?"
   ]
  },
  {
   "cell_type": "markdown",
   "id": "f5de0450-2267-4ddc-99d2-aefe0e080f1b",
   "metadata": {},
   "source": [
    "Tak, podobnie jak w klasycznym KNN, wybór wartości k w KKNN jest istotny. Zbyt mała wartość k może prowadzić do nadmiernego dopasowania (overfitting), podczas gdy zbyt duża wartość k może prowadzić do niedopasowania (underfitting). Wartość k powinna być dobrana w taki sposób, aby zbalansować te dwa zjawiska."
   ]
  },
  {
   "cell_type": "markdown",
   "id": "81b5fd6f-25d9-4ee3-96fe-5163e20c3895",
   "metadata": {},
   "source": [
    "## Zad. 3.3. Czy wielkość zbioru danych ma znaczenie w przypadku tej metody? Sprawdzić, czy liczba obserwacji wpływa na uzyskiwane wyniki."
   ]
  },
  {
   "cell_type": "code",
   "execution_count": 13,
   "id": "9e7da667-9abf-4dc8-9ca8-c9367b98e0ea",
   "metadata": {},
   "outputs": [
    {
     "name": "stdout",
     "output_type": "stream",
     "text": [
      "   próbka testowa   czulosc  dokladnosc\n",
      "0            0.10  0.090909    0.892000\n",
      "1            0.15  0.086957    0.892000\n",
      "2            0.20  0.033333    0.923924\n",
      "3            0.25  0.039474    0.932746\n",
      "4            0.30  0.034884    0.939293\n",
      "5            0.35  0.040404    0.942220\n",
      "6            0.40  0.036036    0.943944\n",
      "7            0.45  0.033613    0.945730\n",
      "8            0.50  0.031250    0.947537\n",
      "9            0.55  0.021429    0.948307\n"
     ]
    }
   ],
   "source": [
    "czulosc = []\n",
    "dokladnosc = []\n",
    "\n",
    "for x in range(1,11):\n",
    "    X_train, X_test, y_train, y_test = train_test_split(\n",
    "    X, y, test_size=0.05+x*0.05, random_state=42)\n",
    "\n",
    "    scaler = StandardScaler()\n",
    "    X_train_scaled = scaler.fit_transform(X_train)\n",
    "    X_test_scaled = scaler.transform(X_test)\n",
    "    \n",
    "    knn = KNeighborsClassifier(n_neighbors=x, weights=\"distance\")\n",
    "    knn.fit(X_train_scaled, y_train)\n",
    "    \n",
    "    y_test_prediction = knn.predict(X_test_scaled)\n",
    "    \n",
    "    matrix_test = confusion_matrix(y_test, y_test_prediction)\n",
    "    dokladnosc.append((matrix_test[0,0]+matrix_test[1,1])/matrix_test.sum())\n",
    "    czulosc.append((matrix_test[1,1]/(matrix_test[1,0]+matrix_test[1,1])))\n",
    "\n",
    "df = pd.DataFrame({\n",
    "    'próbka testowa': [0.05+x*0.05 for x in range(1, 11)],\n",
    "    'czulosc': czulosc,\n",
    "    'dokladnosc': dokladnosc\n",
    "})\n",
    "print(df)"
   ]
  },
  {
   "cell_type": "markdown",
   "id": "7a3000e7-58df-46f9-bd55-48cb9d9f1e7d",
   "metadata": {},
   "source": [
    "Tak jak w metodzie KNN, dla tego zestawu danych czułość się zmniejsza, natomiast dokładność rośnie. Nie jest to jednak pożądany efekt, ponieważ celem jest wykrycie śmiertelnej choroby."
   ]
  }
 ],
 "metadata": {
  "kernelspec": {
   "display_name": "Python 3 (ipykernel)",
   "language": "python",
   "name": "python3"
  },
  "language_info": {
   "codemirror_mode": {
    "name": "ipython",
    "version": 3
   },
   "file_extension": ".py",
   "mimetype": "text/x-python",
   "name": "python",
   "nbconvert_exporter": "python",
   "pygments_lexer": "ipython3",
   "version": "3.11.7"
  }
 },
 "nbformat": 4,
 "nbformat_minor": 5
}
